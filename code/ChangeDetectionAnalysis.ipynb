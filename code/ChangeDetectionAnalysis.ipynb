{
 "cells": [
  {
   "cell_type": "code",
   "execution_count": 7,
   "metadata": {
    "collapsed": true
   },
   "outputs": [
    {
     "name": "stdout",
     "output_type": "stream",
     "text": [
      "a\n"
     ]
    }
   ],
   "source": [
    "print('a')"
   ]
  },
  {
   "cell_type": "code",
   "execution_count": 8,
   "outputs": [],
   "source": [
    "import rasterio\n",
    "import numpy as np\n",
    "\n",
    "year1 = 2015\n",
    "year2 = 2017\n",
    "\n",
    "# Open the LST and NDVI files for each year\n",
    "lst_2015 = rasterio.open('/Users/monaligandhi/Documents/GIS_Spring2023/GIS_FinalProject/Change Detection Analysis/Changedetection_LST2002.tif')\n",
    "ndvi_2015 = rasterio.open('/Users/monaligandhi/Documents/GIS_Spring2023/GIS_FinalProject/Change Detection Analysis/Changedetection_NDVI2002.tif')\n",
    "lst_2017 = rasterio.open('/Users/monaligandhi/Documents/GIS_Spring2023/GIS_FinalProject/Change Detection Analysis/Changedetection_LST2012.tif')\n",
    "ndvi_2017 = rasterio.open('/Users/monaligandhi/Documents/GIS_Spring2023/GIS_FinalProject/Change Detection Analysis/Changedetection_NDVI2012.tif')\n",
    "\n",
    "# Read the data as arrays\n",
    "lst_2015_data = lst_2015.read(1)\n",
    "ndvi_2015_data = ndvi_2015.read(1)\n",
    "lst_2017_data = lst_2017.read(1)\n",
    "ndvi_2017_data = ndvi_2017.read(1)\n",
    "\n",
    "# Calculate the difference between each year's data and the previous year's data\n",
    "lst_diff_2016 = lst_2017_data - lst_2015_data\n",
    "ndvi_diff_2016 = ndvi_2017_data - ndvi_2015_data\n",
    "\n",
    "# Define a threshold for change detection\n",
    "lst_threshold = 0.0001\n",
    "ndvi_threshold = 0.0001\n",
    "\n",
    "# Create a mask for areas of significant change in LST\n",
    "lst_change_mask_2016 = np.abs(lst_diff_2016) > lst_threshold\n",
    "\n",
    "# Create a mask for areas of significant change in NDVI\n",
    "ndvi_change_mask_2016 = np.abs(ndvi_diff_2016) > ndvi_threshold\n",
    "\n",
    "# Combine the LST and NDVI change masks for each year\n",
    "change_mask_2016 = lst_change_mask_2016 | ndvi_change_mask_2016\n",
    "\n",
    "# Write the change masks to output files\n",
    "with rasterio.open('./ChangeMassk_2016.tif', 'w', driver='GTiff', width=lst_2015.width, height=lst_2015.height, count=1, crs=lst_2015.crs, transform=lst_2015.transform, dtype=rasterio.uint8) as dst:\n",
    "    dst.write(change_mask_2016.astype(rasterio.uint8), 1)\n",
    "\n",
    "# Close the files\n",
    "lst_2015.close()\n",
    "ndvi_2015.close()\n",
    "lst_2017.close()\n",
    "ndvi_2017.close()\n"
   ],
   "metadata": {
    "collapsed": false
   }
  },
  {
   "cell_type": "code",
   "execution_count": 6,
   "outputs": [],
   "source": [],
   "metadata": {
    "collapsed": false
   }
  }
 ],
 "metadata": {
  "kernelspec": {
   "display_name": "Python 3",
   "language": "python",
   "name": "python3"
  },
  "language_info": {
   "codemirror_mode": {
    "name": "ipython",
    "version": 2
   },
   "file_extension": ".py",
   "mimetype": "text/x-python",
   "name": "python",
   "nbconvert_exporter": "python",
   "pygments_lexer": "ipython2",
   "version": "2.7.6"
  }
 },
 "nbformat": 4,
 "nbformat_minor": 0
}
